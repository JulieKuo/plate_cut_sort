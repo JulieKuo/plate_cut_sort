{
 "cells": [
  {
   "attachments": {},
   "cell_type": "markdown",
   "metadata": {},
   "source": [
    "### train"
   ]
  },
  {
   "cell_type": "code",
   "execution_count": 1,
   "metadata": {},
   "outputs": [
    {
     "name": "stdout",
     "output_type": "stream",
     "text": [
      "ewogICAgIm1vZGVsX2lkIjogIjIwMjMwNzI3MTUwMDAwMDAwIiwKICAgICJzdGFydF90aW1lIjogIjIwMjEtMDEtMDEiLAogICAgImVuZF90aW1lIjogIjIwMjUtMTItMzAiCn0=\n"
     ]
    }
   ],
   "source": [
    "import json, base64\n",
    "s = {\n",
    "    \"model_id\": \"20230727150000000\",\n",
    "    \"start_time\": \"2021-01-01\",\n",
    "    \"end_time\": \"2025-12-30\"\n",
    "}\n",
    "s = json.dumps(s, indent = 4)\n",
    "\n",
    "b = s.encode(\"UTF-8\")\n",
    "e = base64.b64encode(b)\n",
    "argv = e.decode(\"UTF-8\")\n",
    "print(argv)"
   ]
  },
  {
   "cell_type": "code",
   "execution_count": 2,
   "metadata": {},
   "outputs": [
    {
     "name": "stdout",
     "output_type": "stream",
     "text": [
      "python train.py \"ewogICAgIm1vZGVsX2lkIjogIjIwMjMwNzI3MTUwMDAwMDAwIiwKICAgICJzdGFydF90aW1lIjogIjIwMjEtMDEtMDEiLAogICAgImVuZF90aW1lIjogIjIwMjUtMTItMzAiCn0=\"\n"
     ]
    }
   ],
   "source": [
    "print(f'python train.py \"{argv}\"')"
   ]
  },
  {
   "cell_type": "markdown",
   "metadata": {},
   "source": [
    "### predict"
   ]
  },
  {
   "cell_type": "code",
   "execution_count": 3,
   "metadata": {},
   "outputs": [
    {
     "name": "stdout",
     "output_type": "stream",
     "text": [
      "ewogICAgIm1vZGVsX2lkIjogIjIwMjMwNzI3MTUwMDAwMDAwIiwKICAgICJzdGFydF90aW1lIjogIjIwMjEtMDEtMDEiLAogICAgImVuZF90aW1lIjogIjIwMjUtMTItMzAiCn0=\n"
     ]
    }
   ],
   "source": [
    "import json, base64\n",
    "s = {\n",
    "    \"model_id\": \"20230727150000000\",\n",
    "    \"start_time\": \"2021-01-01\",\n",
    "    \"end_time\": \"2025-12-30\"\n",
    "}\n",
    "s = json.dumps(s, indent = 4)\n",
    "\n",
    "b = s.encode(\"UTF-8\")\n",
    "e = base64.b64encode(b)\n",
    "argv = e.decode(\"UTF-8\")\n",
    "print(argv)"
   ]
  },
  {
   "cell_type": "code",
   "execution_count": 4,
   "metadata": {},
   "outputs": [
    {
     "name": "stdout",
     "output_type": "stream",
     "text": [
      "python predict.py \"ewogICAgIm1vZGVsX2lkIjogIjIwMjMwNzI3MTUwMDAwMDAwIiwKICAgICJzdGFydF90aW1lIjogIjIwMjEtMDEtMDEiLAogICAgImVuZF90aW1lIjogIjIwMjUtMTItMzAiCn0=\"\n"
     ]
    }
   ],
   "source": [
    "print(f'python predict.py \"{argv}\"')"
   ]
  },
  {
   "cell_type": "code",
   "execution_count": null,
   "metadata": {},
   "outputs": [],
   "source": []
  }
 ],
 "metadata": {
  "kernelspec": {
   "display_name": ".venv",
   "language": "python",
   "name": "python3"
  },
  "language_info": {
   "codemirror_mode": {
    "name": "ipython",
    "version": 3
   },
   "file_extension": ".py",
   "mimetype": "text/x-python",
   "name": "python",
   "nbconvert_exporter": "python",
   "pygments_lexer": "ipython3",
   "version": "3.8.10"
  },
  "orig_nbformat": 4
 },
 "nbformat": 4,
 "nbformat_minor": 2
}
