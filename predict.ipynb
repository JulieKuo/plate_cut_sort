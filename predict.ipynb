{
 "cells": [
  {
   "cell_type": "code",
   "execution_count": 2,
   "metadata": {},
   "outputs": [],
   "source": [
    "import os, pickle\n",
    "from prog.tools import *\n",
    "from prog.db import Database\n",
    "import numpy as np\n",
    "from tqdm import tqdm"
   ]
  },
  {
   "cell_type": "code",
   "execution_count": 3,
   "metadata": {},
   "outputs": [],
   "source": [
    "input_ = {\n",
    "    \"model_id\": \"20230710105600\",\n",
    "    \"start_time\": \"2023-06-12\",\n",
    "    \"end_time\": \"2023-07-13\"    \n",
    "    # \"start_time\": \"2024-06-13\",\n",
    "    # \"end_time\": \"2024-06-19\"\n",
    "}"
   ]
  },
  {
   "cell_type": "code",
   "execution_count": 4,
   "metadata": {},
   "outputs": [],
   "source": [
    "model_name = input_[\"model_id\"]\n",
    "start_time = input_[\"start_time\"]\n",
    "end_time = input_[\"end_time\"]\n",
    "\n",
    "root = os.getcwd()\n",
    "\n",
    "# 取得predict位置\n",
    "pred_path = os.path.join(root, \"data\", \"predict\")        \n",
    "os.makedirs(pred_path, exist_ok = True)\n",
    "output_json = os.path.join(pred_path, \"output.json\")\n",
    "data_csv = os.path.join(pred_path, \"data.csv\")\n",
    "data_rm_csv = os.path.join(pred_path, \"data_rm.csv\")\n",
    "waste_json = os.path.join(pred_path, \"waste.json\")\n",
    "\n",
    "# 取得model位置\n",
    "model_detail = os.path.join(root, \"data\", \"train\", model_name, \"model\")\n",
    "\n",
    "# 取得config        \n",
    "config_path = os.path.join(root, \"prog\", \"config.json\")\n",
    "with open(config_path, 'r') as f:\n",
    "    config = json.load(f)"
   ]
  },
  {
   "cell_type": "markdown",
   "metadata": {},
   "source": [
    "### Get data from database"
   ]
  },
  {
   "cell_type": "code",
   "execution_count": 13,
   "metadata": {},
   "outputs": [
    {
     "name": "stdout",
     "output_type": "stream",
     "text": [
      "weights = [0, 0, 0, 1]\n",
      "\n",
      "(18526, 7)\n"
     ]
    },
    {
     "data": {
      "text/html": [
       "<div>\n",
       "<style scoped>\n",
       "    .dataframe tbody tr th:only-of-type {\n",
       "        vertical-align: middle;\n",
       "    }\n",
       "\n",
       "    .dataframe tbody tr th {\n",
       "        vertical-align: top;\n",
       "    }\n",
       "\n",
       "    .dataframe thead th {\n",
       "        text-align: right;\n",
       "    }\n",
       "</style>\n",
       "<table border=\"1\" class=\"dataframe\">\n",
       "  <thead>\n",
       "    <tr style=\"text-align: right;\">\n",
       "      <th></th>\n",
       "      <th>order_id</th>\n",
       "      <th>cabinet</th>\n",
       "      <th>item_name</th>\n",
       "      <th>color</th>\n",
       "      <th>length</th>\n",
       "      <th>width</th>\n",
       "      <th>e_ship_date</th>\n",
       "    </tr>\n",
       "  </thead>\n",
       "  <tbody>\n",
       "    <tr>\n",
       "      <th>0</th>\n",
       "      <td>BC11205013</td>\n",
       "      <td>01_矮櫃</td>\n",
       "      <td>T腳</td>\n",
       "      <td>BJ8321TX_18</td>\n",
       "      <td>2600.0</td>\n",
       "      <td>130.0</td>\n",
       "      <td>2024-05-03</td>\n",
       "    </tr>\n",
       "    <tr>\n",
       "      <th>1</th>\n",
       "      <td>BC11205013</td>\n",
       "      <td>01_矮櫃</td>\n",
       "      <td>右側板</td>\n",
       "      <td>BJ8321TX_18</td>\n",
       "      <td>1320.0</td>\n",
       "      <td>560.0</td>\n",
       "      <td>2024-05-03</td>\n",
       "    </tr>\n",
       "    <tr>\n",
       "      <th>2</th>\n",
       "      <td>BC11205013</td>\n",
       "      <td>01_矮櫃</td>\n",
       "      <td>左側板</td>\n",
       "      <td>BJ8321TX_18</td>\n",
       "      <td>1320.0</td>\n",
       "      <td>560.0</td>\n",
       "      <td>2024-05-03</td>\n",
       "    </tr>\n",
       "  </tbody>\n",
       "</table>\n",
       "</div>"
      ],
      "text/plain": [
       "     order_id cabinet item_name        color  length  width e_ship_date\n",
       "0  BC11205013   01_矮櫃        T腳  BJ8321TX_18  2600.0  130.0  2024-05-03\n",
       "1  BC11205013   01_矮櫃       右側板  BJ8321TX_18  1320.0  560.0  2024-05-03\n",
       "2  BC11205013   01_矮櫃       左側板  BJ8321TX_18  1320.0  560.0  2024-05-03"
      ]
     },
     "execution_count": 13,
     "metadata": {},
     "output_type": "execute_result"
    }
   ],
   "source": [
    "db_con = config[\"database\"]\n",
    "db = Database(db_con)\n",
    "\n",
    "# weights_df = db.get_data(db_con[\"table\"][\"weight\"])\n",
    "# weights = weights_df.iloc[-1][[\"e_ship_date\", \"length\", \"width\", \"area\"]].astype(float).to_list()\n",
    "weights = [0, 0, 0, 1]\n",
    "print(f\"weights = {weights}\\n\")\n",
    "\n",
    "\n",
    "df = db.get_data(db_con[\"table\"][\"predict\"], input_[\"start_time\"], input_[\"end_time\"])\n",
    "remove = (df[[\"length\", \"width\"]] <= 0).any(axis = 1)\n",
    "df_rm = df[remove].reset_index(drop = True)\n",
    "df = df[~remove].reset_index(drop = True) # 長寬為0無法切割\n",
    "df = df[[\"order_id\", \"cabinet\", \"item_name\", \"color\", \"length\", \"width\", \"e_ship_date\"]]\n",
    "print(df.shape)\n",
    "df.head(3)"
   ]
  },
  {
   "cell_type": "code",
   "execution_count": 18,
   "metadata": {},
   "outputs": [],
   "source": [
    "import datetime"
   ]
  },
  {
   "cell_type": "code",
   "execution_count": 19,
   "metadata": {},
   "outputs": [],
   "source": [
    "start = datetime.date(2024, 6, 13)\n",
    "end = datetime.date(2024, 6, 19)"
   ]
  },
  {
   "cell_type": "code",
   "execution_count": 24,
   "metadata": {},
   "outputs": [
    {
     "data": {
      "text/plain": [
       "8"
      ]
     },
     "execution_count": 24,
     "metadata": {},
     "output_type": "execute_result"
    }
   ],
   "source": [
    "df1 = df.query(\"@start <= e_ship_date <= @end\")\n",
    "df1[\"order_id\"].nunique()"
   ]
  },
  {
   "cell_type": "code",
   "execution_count": 25,
   "metadata": {},
   "outputs": [
    {
     "data": {
      "text/plain": [
       "array(['BS11206028', 'BS11206038', 'BS11206051', 'BS11206052',\n",
       "       'BS11206104', 'BS11206111', 'BS11206122', 'BS11206123'],\n",
       "      dtype=object)"
      ]
     },
     "execution_count": 25,
     "metadata": {},
     "output_type": "execute_result"
    }
   ],
   "source": [
    "df1[\"order_id\"].unique()"
   ]
  },
  {
   "cell_type": "code",
   "execution_count": null,
   "metadata": {},
   "outputs": [],
   "source": []
  },
  {
   "cell_type": "markdown",
   "metadata": {},
   "source": [
    "### Load model"
   ]
  },
  {
   "cell_type": "code",
   "execution_count": 5,
   "metadata": {},
   "outputs": [],
   "source": [
    "features = pickle.load(open(os.path.join(model_detail, \"feat_order.pkl\"), \"rb\"))\n",
    "outlier_boundary = pickle.load(open(os.path.join(model_detail, \"outlier_boundary.pkl\"), \"rb\"))\n",
    "skew_feat = pickle.load(open(os.path.join(model_detail, \"skew_feat.pkl\"), \"rb\"))\n",
    "pt = pickle.load(open(os.path.join(model_detail, \"power_tf.pkl\"), \"rb\"))\n",
    "scaler = pickle.load(open(os.path.join(model_detail, \"scaler.pkl\"), \"rb\"))\n",
    "model = pickle.load(open(os.path.join(model_detail, \"model.pkl\"), \"rb\"))"
   ]
  },
  {
   "cell_type": "markdown",
   "metadata": {},
   "source": [
    "### Generate Feature"
   ]
  },
  {
   "cell_type": "code",
   "execution_count": 6,
   "metadata": {},
   "outputs": [],
   "source": [
    "df.insert(0, \"selected\", 0)\n",
    "df.insert(1, \"label\", None)\n",
    "# test = test.drop([\"e_ship_date\"], axis = 1)"
   ]
  },
  {
   "cell_type": "code",
   "execution_count": 7,
   "metadata": {},
   "outputs": [
    {
     "name": "stdout",
     "output_type": "stream",
     "text": [
      "length_limit = 3000, width_limit = 3000\n"
     ]
    },
    {
     "data": {
      "text/html": [
       "<div>\n",
       "<style scoped>\n",
       "    .dataframe tbody tr th:only-of-type {\n",
       "        vertical-align: middle;\n",
       "    }\n",
       "\n",
       "    .dataframe tbody tr th {\n",
       "        vertical-align: top;\n",
       "    }\n",
       "\n",
       "    .dataframe thead th {\n",
       "        text-align: right;\n",
       "    }\n",
       "</style>\n",
       "<table border=\"1\" class=\"dataframe\">\n",
       "  <thead>\n",
       "    <tr style=\"text-align: right;\">\n",
       "      <th></th>\n",
       "      <th>selected</th>\n",
       "      <th>label</th>\n",
       "      <th>order_id</th>\n",
       "      <th>cabinet</th>\n",
       "      <th>item_name</th>\n",
       "      <th>color</th>\n",
       "      <th>length</th>\n",
       "      <th>width</th>\n",
       "      <th>e_ship_date</th>\n",
       "      <th>area</th>\n",
       "      <th>area_prob</th>\n",
       "    </tr>\n",
       "  </thead>\n",
       "  <tbody>\n",
       "    <tr>\n",
       "      <th>0</th>\n",
       "      <td>0</td>\n",
       "      <td>None</td>\n",
       "      <td>BS11206028</td>\n",
       "      <td>00_共用</td>\n",
       "      <td>T腳</td>\n",
       "      <td>AL3612A_18</td>\n",
       "      <td>2500.0</td>\n",
       "      <td>120.0</td>\n",
       "      <td>2024-06-14</td>\n",
       "      <td>300000.0</td>\n",
       "      <td>0.033333</td>\n",
       "    </tr>\n",
       "    <tr>\n",
       "      <th>1</th>\n",
       "      <td>0</td>\n",
       "      <td>None</td>\n",
       "      <td>BS11206028</td>\n",
       "      <td>00_共用</td>\n",
       "      <td>T腳</td>\n",
       "      <td>AL3612A_18</td>\n",
       "      <td>2500.0</td>\n",
       "      <td>120.0</td>\n",
       "      <td>2024-06-14</td>\n",
       "      <td>300000.0</td>\n",
       "      <td>0.033333</td>\n",
       "    </tr>\n",
       "    <tr>\n",
       "      <th>2</th>\n",
       "      <td>0</td>\n",
       "      <td>None</td>\n",
       "      <td>BS11206028</td>\n",
       "      <td>00_共用</td>\n",
       "      <td>T腳</td>\n",
       "      <td>BK1185A_18</td>\n",
       "      <td>2500.0</td>\n",
       "      <td>120.0</td>\n",
       "      <td>2024-06-14</td>\n",
       "      <td>300000.0</td>\n",
       "      <td>0.033333</td>\n",
       "    </tr>\n",
       "  </tbody>\n",
       "</table>\n",
       "</div>"
      ],
      "text/plain": [
       "   selected label    order_id cabinet item_name       color  length  width  \\\n",
       "0         0  None  BS11206028   00_共用        T腳  AL3612A_18  2500.0  120.0   \n",
       "1         0  None  BS11206028   00_共用        T腳  AL3612A_18  2500.0  120.0   \n",
       "2         0  None  BS11206028   00_共用        T腳  BK1185A_18  2500.0  120.0   \n",
       "\n",
       "  e_ship_date      area  area_prob  \n",
       "0  2024-06-14  300000.0   0.033333  \n",
       "1  2024-06-14  300000.0   0.033333  \n",
       "2  2024-06-14  300000.0   0.033333  "
      ]
     },
     "execution_count": 7,
     "metadata": {},
     "output_type": "execute_result"
    }
   ],
   "source": [
    "df[\"area\"] = df[\"length\"] * df[\"width\"] # 矩形面積\n",
    "\n",
    "# 板材的大小限制\n",
    "length_limit = config[\"limit\"][\"length\"]\n",
    "width_limit = config[\"limit\"][\"width\"]\n",
    "print(f\"length_limit = {length_limit}, width_limit = {width_limit}\")\n",
    "\n",
    "area_limit = length_limit * width_limit # 箱子的面積\n",
    "df[\"area_prob\"] = df[\"area\"] / area_limit # 矩形佔箱子的面積\n",
    "df.head(3)"
   ]
  },
  {
   "cell_type": "markdown",
   "metadata": {},
   "source": [
    "###  刪除無法排序的板材"
   ]
  },
  {
   "cell_type": "code",
   "execution_count": 8,
   "metadata": {},
   "outputs": [],
   "source": [
    "df_rm1 = df.query(\"(length > @length_limit) or (width > @width_limit)\")\n",
    "df_rm1 = df_rm1.drop(['selected', 'label', 'area', 'area_prob'], axis = 1)\n",
    "df_rm = pd.concat([df_rm, df_rm1], ignore_index = True)"
   ]
  },
  {
   "cell_type": "code",
   "execution_count": 9,
   "metadata": {},
   "outputs": [],
   "source": [
    "df = df.query(\"(length <= @length_limit) or (width <= @width_limit)\").reset_index(drop = True)"
   ]
  },
  {
   "cell_type": "markdown",
   "metadata": {},
   "source": [
    "### 初始排序"
   ]
  },
  {
   "cell_type": "code",
   "execution_count": 10,
   "metadata": {},
   "outputs": [
    {
     "data": {
      "text/html": [
       "<div>\n",
       "<style scoped>\n",
       "    .dataframe tbody tr th:only-of-type {\n",
       "        vertical-align: middle;\n",
       "    }\n",
       "\n",
       "    .dataframe tbody tr th {\n",
       "        vertical-align: top;\n",
       "    }\n",
       "\n",
       "    .dataframe thead th {\n",
       "        text-align: right;\n",
       "    }\n",
       "</style>\n",
       "<table border=\"1\" class=\"dataframe\">\n",
       "  <thead>\n",
       "    <tr style=\"text-align: right;\">\n",
       "      <th></th>\n",
       "      <th>selected</th>\n",
       "      <th>label</th>\n",
       "      <th>order_id</th>\n",
       "      <th>cabinet</th>\n",
       "      <th>item_name</th>\n",
       "      <th>color</th>\n",
       "      <th>length</th>\n",
       "      <th>width</th>\n",
       "      <th>e_ship_date</th>\n",
       "      <th>area</th>\n",
       "      <th>area_prob</th>\n",
       "    </tr>\n",
       "  </thead>\n",
       "  <tbody>\n",
       "    <tr>\n",
       "      <th>0</th>\n",
       "      <td>0</td>\n",
       "      <td>None</td>\n",
       "      <td>BS11206028</td>\n",
       "      <td>01_鞋櫃</td>\n",
       "      <td>背拉</td>\n",
       "      <td>*不拘_18</td>\n",
       "      <td>479.0</td>\n",
       "      <td>96.0</td>\n",
       "      <td>2024-06-14</td>\n",
       "      <td>45984.0</td>\n",
       "      <td>0.005109</td>\n",
       "    </tr>\n",
       "    <tr>\n",
       "      <th>1</th>\n",
       "      <td>0</td>\n",
       "      <td>None</td>\n",
       "      <td>BS11206028</td>\n",
       "      <td>01_鞋櫃</td>\n",
       "      <td>背拉</td>\n",
       "      <td>*不拘_18</td>\n",
       "      <td>479.0</td>\n",
       "      <td>96.0</td>\n",
       "      <td>2024-06-14</td>\n",
       "      <td>45984.0</td>\n",
       "      <td>0.005109</td>\n",
       "    </tr>\n",
       "    <tr>\n",
       "      <th>2</th>\n",
       "      <td>0</td>\n",
       "      <td>None</td>\n",
       "      <td>BS11206028</td>\n",
       "      <td>01_鞋櫃</td>\n",
       "      <td>背拉</td>\n",
       "      <td>*不拘_18</td>\n",
       "      <td>479.0</td>\n",
       "      <td>96.0</td>\n",
       "      <td>2024-06-14</td>\n",
       "      <td>45984.0</td>\n",
       "      <td>0.005109</td>\n",
       "    </tr>\n",
       "  </tbody>\n",
       "</table>\n",
       "</div>"
      ],
      "text/plain": [
       "   selected label    order_id cabinet item_name   color  length  width  \\\n",
       "0         0  None  BS11206028   01_鞋櫃        背拉  *不拘_18   479.0   96.0   \n",
       "1         0  None  BS11206028   01_鞋櫃        背拉  *不拘_18   479.0   96.0   \n",
       "2         0  None  BS11206028   01_鞋櫃        背拉  *不拘_18   479.0   96.0   \n",
       "\n",
       "  e_ship_date     area  area_prob  \n",
       "0  2024-06-14  45984.0   0.005109  \n",
       "1  2024-06-14  45984.0   0.005109  \n",
       "2  2024-06-14  45984.0   0.005109  "
      ]
     },
     "execution_count": 10,
     "metadata": {},
     "output_type": "execute_result"
    }
   ],
   "source": [
    "df = df.sort_values([\"color\", \"order_id\", \"cabinet\", \"length\", \"width\"], ascending = [True, True, True, False, False])\n",
    "df = df.reset_index(drop = True)\n",
    "df.head(3)"
   ]
  },
  {
   "cell_type": "markdown",
   "metadata": {},
   "source": [
    "### 計算第n個類型的產品的總數量"
   ]
  },
  {
   "cell_type": "code",
   "execution_count": 11,
   "metadata": {},
   "outputs": [
    {
     "data": {
      "text/html": [
       "<div>\n",
       "<style scoped>\n",
       "    .dataframe tbody tr th:only-of-type {\n",
       "        vertical-align: middle;\n",
       "    }\n",
       "\n",
       "    .dataframe tbody tr th {\n",
       "        vertical-align: top;\n",
       "    }\n",
       "\n",
       "    .dataframe thead th {\n",
       "        text-align: right;\n",
       "    }\n",
       "</style>\n",
       "<table border=\"1\" class=\"dataframe\">\n",
       "  <thead>\n",
       "    <tr style=\"text-align: right;\">\n",
       "      <th></th>\n",
       "      <th>selected</th>\n",
       "      <th>label</th>\n",
       "      <th>order_id</th>\n",
       "      <th>cabinet</th>\n",
       "      <th>item_name</th>\n",
       "      <th>color</th>\n",
       "      <th>length</th>\n",
       "      <th>width</th>\n",
       "      <th>e_ship_date</th>\n",
       "      <th>area</th>\n",
       "      <th>area_prob</th>\n",
       "      <th>color_num</th>\n",
       "      <th>cabinet_num</th>\n",
       "      <th>color_cabinet_num</th>\n",
       "      <th>item_num</th>\n",
       "      <th>color_item_num</th>\n",
       "    </tr>\n",
       "  </thead>\n",
       "  <tbody>\n",
       "    <tr>\n",
       "      <th>0</th>\n",
       "      <td>0</td>\n",
       "      <td>None</td>\n",
       "      <td>BS11206028</td>\n",
       "      <td>01_鞋櫃</td>\n",
       "      <td>背拉</td>\n",
       "      <td>*不拘_18</td>\n",
       "      <td>479.0</td>\n",
       "      <td>96.0</td>\n",
       "      <td>2024-06-14</td>\n",
       "      <td>45984.0</td>\n",
       "      <td>0.005109</td>\n",
       "      <td>95</td>\n",
       "      <td>18</td>\n",
       "      <td>3</td>\n",
       "      <td>3</td>\n",
       "      <td>3</td>\n",
       "    </tr>\n",
       "    <tr>\n",
       "      <th>1</th>\n",
       "      <td>0</td>\n",
       "      <td>None</td>\n",
       "      <td>BS11206028</td>\n",
       "      <td>01_鞋櫃</td>\n",
       "      <td>背拉</td>\n",
       "      <td>*不拘_18</td>\n",
       "      <td>479.0</td>\n",
       "      <td>96.0</td>\n",
       "      <td>2024-06-14</td>\n",
       "      <td>45984.0</td>\n",
       "      <td>0.005109</td>\n",
       "      <td>95</td>\n",
       "      <td>18</td>\n",
       "      <td>3</td>\n",
       "      <td>3</td>\n",
       "      <td>3</td>\n",
       "    </tr>\n",
       "    <tr>\n",
       "      <th>2</th>\n",
       "      <td>0</td>\n",
       "      <td>None</td>\n",
       "      <td>BS11206028</td>\n",
       "      <td>01_鞋櫃</td>\n",
       "      <td>背拉</td>\n",
       "      <td>*不拘_18</td>\n",
       "      <td>479.0</td>\n",
       "      <td>96.0</td>\n",
       "      <td>2024-06-14</td>\n",
       "      <td>45984.0</td>\n",
       "      <td>0.005109</td>\n",
       "      <td>95</td>\n",
       "      <td>18</td>\n",
       "      <td>3</td>\n",
       "      <td>3</td>\n",
       "      <td>3</td>\n",
       "    </tr>\n",
       "  </tbody>\n",
       "</table>\n",
       "</div>"
      ],
      "text/plain": [
       "   selected label    order_id cabinet item_name   color  length  width  \\\n",
       "0         0  None  BS11206028   01_鞋櫃        背拉  *不拘_18   479.0   96.0   \n",
       "1         0  None  BS11206028   01_鞋櫃        背拉  *不拘_18   479.0   96.0   \n",
       "2         0  None  BS11206028   01_鞋櫃        背拉  *不拘_18   479.0   96.0   \n",
       "\n",
       "  e_ship_date     area  area_prob  color_num  cabinet_num  color_cabinet_num  \\\n",
       "0  2024-06-14  45984.0   0.005109         95           18                  3   \n",
       "1  2024-06-14  45984.0   0.005109         95           18                  3   \n",
       "2  2024-06-14  45984.0   0.005109         95           18                  3   \n",
       "\n",
       "   item_num  color_item_num  \n",
       "0         3               3  \n",
       "1         3               3  \n",
       "2         3               3  "
      ]
     },
     "execution_count": 11,
     "metadata": {},
     "output_type": "execute_result"
    }
   ],
   "source": [
    "df, color_accum_counts = calculate_num(col = [\"color\"], df = df, target = \"color\", flag = \"predict\")\n",
    "df, cabinet_accum_counts = calculate_num(col = [\"cabinet\"], df = df, target = \"cabinet\", flag = \"predict\")\n",
    "df, color_cabinet_accum_counts = calculate_num(col = [\"color\", \"cabinet\"], df = df, target = \"color_cabinet\", flag = \"predict\")\n",
    "df, item_accum_counts = calculate_num(col = [\"color\", \"cabinet\", \"length\", \"width\"], df = df, target = \"item\", flag = \"predict\")\n",
    "df, color_item_accum_counts = calculate_num(col = [\"color\", \"length\", \"width\"], df = df, target = \"color_item\", flag = \"predict\")\n",
    "df.head(3)"
   ]
  },
  {
   "cell_type": "code",
   "execution_count": 12,
   "metadata": {},
   "outputs": [
    {
     "data": {
      "text/html": [
       "<div>\n",
       "<style scoped>\n",
       "    .dataframe tbody tr th:only-of-type {\n",
       "        vertical-align: middle;\n",
       "    }\n",
       "\n",
       "    .dataframe tbody tr th {\n",
       "        vertical-align: top;\n",
       "    }\n",
       "\n",
       "    .dataframe thead th {\n",
       "        text-align: right;\n",
       "    }\n",
       "</style>\n",
       "<table border=\"1\" class=\"dataframe\">\n",
       "  <thead>\n",
       "    <tr style=\"text-align: right;\">\n",
       "      <th></th>\n",
       "      <th>selected</th>\n",
       "      <th>label</th>\n",
       "      <th>order_id</th>\n",
       "      <th>cabinet</th>\n",
       "      <th>item_name</th>\n",
       "      <th>color</th>\n",
       "      <th>length</th>\n",
       "      <th>width</th>\n",
       "      <th>e_ship_date</th>\n",
       "      <th>area</th>\n",
       "      <th>...</th>\n",
       "      <th>color_num</th>\n",
       "      <th>cabinet_num</th>\n",
       "      <th>color_cabinet_num</th>\n",
       "      <th>item_num</th>\n",
       "      <th>color_item_num</th>\n",
       "      <th>color1_num</th>\n",
       "      <th>cabinet1_num</th>\n",
       "      <th>color_cabinet1_num</th>\n",
       "      <th>item1_num</th>\n",
       "      <th>color_item1_num</th>\n",
       "    </tr>\n",
       "  </thead>\n",
       "  <tbody>\n",
       "    <tr>\n",
       "      <th>0</th>\n",
       "      <td>0</td>\n",
       "      <td>None</td>\n",
       "      <td>BS11206028</td>\n",
       "      <td>01_鞋櫃</td>\n",
       "      <td>背拉</td>\n",
       "      <td>*不拘_18</td>\n",
       "      <td>479.0</td>\n",
       "      <td>96.0</td>\n",
       "      <td>2024-06-14</td>\n",
       "      <td>45984.0</td>\n",
       "      <td>...</td>\n",
       "      <td>95</td>\n",
       "      <td>18</td>\n",
       "      <td>3</td>\n",
       "      <td>3</td>\n",
       "      <td>3</td>\n",
       "      <td>28</td>\n",
       "      <td>18</td>\n",
       "      <td>3</td>\n",
       "      <td>3</td>\n",
       "      <td>3</td>\n",
       "    </tr>\n",
       "    <tr>\n",
       "      <th>1</th>\n",
       "      <td>0</td>\n",
       "      <td>None</td>\n",
       "      <td>BS11206028</td>\n",
       "      <td>01_鞋櫃</td>\n",
       "      <td>背拉</td>\n",
       "      <td>*不拘_18</td>\n",
       "      <td>479.0</td>\n",
       "      <td>96.0</td>\n",
       "      <td>2024-06-14</td>\n",
       "      <td>45984.0</td>\n",
       "      <td>...</td>\n",
       "      <td>95</td>\n",
       "      <td>18</td>\n",
       "      <td>3</td>\n",
       "      <td>3</td>\n",
       "      <td>3</td>\n",
       "      <td>28</td>\n",
       "      <td>18</td>\n",
       "      <td>3</td>\n",
       "      <td>3</td>\n",
       "      <td>3</td>\n",
       "    </tr>\n",
       "    <tr>\n",
       "      <th>2</th>\n",
       "      <td>0</td>\n",
       "      <td>None</td>\n",
       "      <td>BS11206028</td>\n",
       "      <td>01_鞋櫃</td>\n",
       "      <td>背拉</td>\n",
       "      <td>*不拘_18</td>\n",
       "      <td>479.0</td>\n",
       "      <td>96.0</td>\n",
       "      <td>2024-06-14</td>\n",
       "      <td>45984.0</td>\n",
       "      <td>...</td>\n",
       "      <td>95</td>\n",
       "      <td>18</td>\n",
       "      <td>3</td>\n",
       "      <td>3</td>\n",
       "      <td>3</td>\n",
       "      <td>28</td>\n",
       "      <td>18</td>\n",
       "      <td>3</td>\n",
       "      <td>3</td>\n",
       "      <td>3</td>\n",
       "    </tr>\n",
       "  </tbody>\n",
       "</table>\n",
       "<p>3 rows × 21 columns</p>\n",
       "</div>"
      ],
      "text/plain": [
       "   selected label    order_id cabinet item_name   color  length  width  \\\n",
       "0         0  None  BS11206028   01_鞋櫃        背拉  *不拘_18   479.0   96.0   \n",
       "1         0  None  BS11206028   01_鞋櫃        背拉  *不拘_18   479.0   96.0   \n",
       "2         0  None  BS11206028   01_鞋櫃        背拉  *不拘_18   479.0   96.0   \n",
       "\n",
       "  e_ship_date     area  ...  color_num  cabinet_num  color_cabinet_num  \\\n",
       "0  2024-06-14  45984.0  ...         95           18                  3   \n",
       "1  2024-06-14  45984.0  ...         95           18                  3   \n",
       "2  2024-06-14  45984.0  ...         95           18                  3   \n",
       "\n",
       "   item_num  color_item_num  color1_num  cabinet1_num  color_cabinet1_num  \\\n",
       "0         3               3          28            18                   3   \n",
       "1         3               3          28            18                   3   \n",
       "2         3               3          28            18                   3   \n",
       "\n",
       "   item1_num  color_item1_num  \n",
       "0          3                3  \n",
       "1          3                3  \n",
       "2          3                3  \n",
       "\n",
       "[3 rows x 21 columns]"
      ]
     },
     "execution_count": 12,
     "metadata": {},
     "output_type": "execute_result"
    }
   ],
   "source": [
    "df, color_accum_counts1 = calculate_num(col = [\"order_id\", \"color\"], df = df, target = \"color1\", flag = \"predict\")\n",
    "df, cabinet_accum_counts1 = calculate_num(col = [\"order_id\", \"cabinet\"], df = df, target = \"cabinet1\", flag = \"predict\")\n",
    "df, color_cabinet_accum_counts1 = calculate_num(col = [\"order_id\", \"color\", \"cabinet\"], df = df, target = \"color_cabinet1\", flag = \"predict\")\n",
    "df, item_accum_counts1 = calculate_num(col = [\"order_id\", \"color\", \"cabinet\", \"length\", \"width\"], df = df, target = \"item1\", flag = \"predict\")\n",
    "df, color_item_accum_counts1 = calculate_num(col = [\"order_id\", \"color\", \"length\", \"width\"], df = df, target = \"color_item1\", flag = \"predict\")\n",
    "df.head(3)"
   ]
  },
  {
   "cell_type": "markdown",
   "metadata": {},
   "source": [
    "### 找下一個要切割的板材"
   ]
  },
  {
   "cell_type": "code",
   "execution_count": 13,
   "metadata": {},
   "outputs": [],
   "source": [
    "col_dict = {\n",
    "    0: [\"color\", \"cabinet\", \"length\", \"width\"], # 同plate，同cabinet，同item\n",
    "    1: [\"color\", \"cabinet\"], # 同plate，同cabinet，不同item\n",
    "    2: [\"color\", \"length\", \"width\"], # 同plate，不同cabinet，同item\n",
    "    3: [\"color\"], # 同plate，不同cabinet，不同item\n",
    "}"
   ]
  },
  {
   "cell_type": "markdown",
   "metadata": {},
   "source": [
    "### 依序選出板材排序"
   ]
  },
  {
   "cell_type": "code",
   "execution_count": 14,
   "metadata": {},
   "outputs": [
    {
     "name": "stderr",
     "output_type": "stream",
     "text": [
      "100%|██████████| 1693/1693 [01:14<00:00, 29.02it/s, plate_id=88, waste=0.875] "
     ]
    }
   ],
   "source": [
    "df[[\"accum_areas\", \"waste\", \"plate_id\", \"fail\"]] = [0, 1, 0, 0]\n",
    "# 初始化第0個板材\n",
    "df.loc[0, \"plate_id\"] = 1\n",
    "df.loc[0, \"accum_areas\"] = df.loc[0, \"area\"] # 箱中的累積使用面積\n",
    "df.loc[0, \"waste\"] = (1 - (df.loc[0, \"accum_areas\"] / (length_limit * width_limit))) # 計算waste欄位，及耗損率\n",
    "\n",
    "pbar = tqdm(total = len(df)-2)\n",
    "for index in range(len(df)-1): # 依序選出板材\n",
    "    df.loc[index, \"selected\"] = 1 # 選到的板材的selected欄位由0改為1\n",
    "\n",
    "\n",
    "    # 計算第n個類型的產品佔該類型產品總數量的比值，ex: color_num、cabinet_num、color_cabinet_num、item_num欄位\n",
    "    ## 抓出產品的類型\n",
    "    color_key = df.loc[index, \"color\"]\n",
    "    cabinet_key = df.loc[index, \"cabinet\"]\n",
    "    color_cabinet_key = tuple([i for i in df.loc[index, [\"color\", \"cabinet\"]]])\n",
    "    item_key = tuple([i for i in df.loc[index, [\"color\", \"cabinet\", \"length\", \"width\"]]])    \n",
    "    color_item_key = tuple([i for i in df.loc[index, [\"color\", \"length\", \"width\"]]])\n",
    "    color_key1 = tuple([i for i in df.loc[index, [\"order_id\", \"color\"]]])\n",
    "    cabinet_key1 = tuple([i for i in df.loc[index, [\"order_id\", \"cabinet\"]]])\n",
    "    color_cabinet_key1 = tuple([i for i in df.loc[index, [\"order_id\", \"color\", \"cabinet\"]]])\n",
    "    item_key1 = tuple([i for i in df.loc[index, [\"order_id\", \"color\", \"cabinet\", \"length\", \"width\"]]])    \n",
    "    color_item_key1 = tuple([i for i in df.loc[index, [\"order_id\", \"color\", \"length\", \"width\"]]])\n",
    "\n",
    "    ## 產品的類型的目前數量加1\n",
    "    color_accum_counts[color_key] += 1\n",
    "    cabinet_accum_counts[cabinet_key] += 1\n",
    "    color_cabinet_accum_counts[color_cabinet_key] += 1\n",
    "    item_accum_counts[item_key] += 1\n",
    "    color_item_accum_counts[color_item_key] += 1\n",
    "    color_accum_counts1[color_key1] += 1\n",
    "    cabinet_accum_counts1[cabinet_key1] += 1\n",
    "    color_cabinet_accum_counts1[color_cabinet_key1] += 1\n",
    "    item_accum_counts1[item_key1] += 1\n",
    "    color_item_accum_counts1[color_item_key1] += 1\n",
    "\n",
    "    ## 計算第n個類型的產品佔該類型產品總數量的比值\n",
    "    df.loc[index, \"color_num\"] = color_accum_counts[color_key] / df.loc[index, \"color_num\"]\n",
    "    df.loc[index, \"cabinet_num\"] = cabinet_accum_counts[cabinet_key] / df.loc[index, \"cabinet_num\"]\n",
    "    df.loc[index, \"color_cabinet_num\"] = color_cabinet_accum_counts[color_cabinet_key] / df.loc[index, \"color_cabinet_num\"]\n",
    "    df.loc[index, \"item_num\"] = item_accum_counts[item_key] / df.loc[index, \"item_num\"]\n",
    "    df.loc[index, \"color_item_num\"] = color_item_accum_counts[color_item_key] / df.loc[index, \"color_item_num\"]\n",
    "    df.loc[index, \"color1_num\"] = color_accum_counts1[color_key1] / df.loc[index, \"color1_num\"]\n",
    "    df.loc[index, \"cabinet1_num\"] = cabinet_accum_counts1[cabinet_key1] / df.loc[index, \"cabinet1_num\"]\n",
    "    df.loc[index, \"color_cabinet1_num\"] = color_cabinet_accum_counts1[color_cabinet_key1] / df.loc[index, \"color_cabinet1_num\"]\n",
    "    df.loc[index, \"item1_num\"] = item_accum_counts1[item_key1] / df.loc[index, \"item1_num\"]\n",
    "    df.loc[index, \"color_item1_num\"] = color_item_accum_counts1[color_item_key1] / df.loc[index, \"color_item1_num\"]\n",
    "\n",
    "\n",
    "    # 預測target\n",
    "    x_test = df.loc[[index], features].copy()\n",
    "\n",
    "    ## remove outlier \n",
    "    for col in features:\n",
    "        min_ = outlier_boundary[col][\"min\"]\n",
    "        max_ = outlier_boundary[col][\"max\"]\n",
    "        x_test[col] = x_test[col].apply(lambda X: max_ if X > max_ else X)\n",
    "        x_test[col] = x_test[col].apply(lambda X: min_ if X < min_ else X)\n",
    "    \n",
    "    ## skewing\n",
    "    x_test[skew_feat] = pt.transform(x_test[skew_feat])\n",
    "    \n",
    "    ## scaling\n",
    "    x_test[features] = scaler.transform(x_test[features])\n",
    "\n",
    "    ## predict\n",
    "    df.loc[index, \"label\"] = model.predict(x_test)[0]\n",
    "\n",
    "\n",
    "    # 抓出下一塊板材的index\n",
    "    df = get_next_plate(col_dict, index, weights, df, length_limit, width_limit)\n",
    "\n",
    "    pbar.set_postfix({\"plate_id\": df.loc[index+1, \"plate_id\"], \"waste\": df.loc[index+1, \"waste\"]})\n",
    "    pbar.update(1)"
   ]
  },
  {
   "cell_type": "markdown",
   "metadata": {},
   "source": [
    "### Cost time"
   ]
  },
  {
   "cell_type": "code",
   "execution_count": 15,
   "metadata": {},
   "outputs": [
    {
     "data": {
      "text/html": [
       "<div>\n",
       "<style scoped>\n",
       "    .dataframe tbody tr th:only-of-type {\n",
       "        vertical-align: middle;\n",
       "    }\n",
       "\n",
       "    .dataframe tbody tr th {\n",
       "        vertical-align: top;\n",
       "    }\n",
       "\n",
       "    .dataframe thead th {\n",
       "        text-align: right;\n",
       "    }\n",
       "</style>\n",
       "<table border=\"1\" class=\"dataframe\">\n",
       "  <thead>\n",
       "    <tr style=\"text-align: right;\">\n",
       "      <th></th>\n",
       "      <th>time(秒)</th>\n",
       "      <th>item_gap</th>\n",
       "    </tr>\n",
       "  </thead>\n",
       "  <tbody>\n",
       "    <tr>\n",
       "      <th>count</th>\n",
       "      <td>8.00</td>\n",
       "      <td>8.00</td>\n",
       "    </tr>\n",
       "    <tr>\n",
       "      <th>mean</th>\n",
       "      <td>4428.90</td>\n",
       "      <td>615.12</td>\n",
       "    </tr>\n",
       "    <tr>\n",
       "      <th>std</th>\n",
       "      <td>4342.13</td>\n",
       "      <td>603.07</td>\n",
       "    </tr>\n",
       "    <tr>\n",
       "      <th>min</th>\n",
       "      <td>21.60</td>\n",
       "      <td>3.00</td>\n",
       "    </tr>\n",
       "    <tr>\n",
       "      <th>25%</th>\n",
       "      <td>423.00</td>\n",
       "      <td>58.75</td>\n",
       "    </tr>\n",
       "    <tr>\n",
       "      <th>50%</th>\n",
       "      <td>4118.40</td>\n",
       "      <td>572.00</td>\n",
       "    </tr>\n",
       "    <tr>\n",
       "      <th>75%</th>\n",
       "      <td>6568.20</td>\n",
       "      <td>912.25</td>\n",
       "    </tr>\n",
       "    <tr>\n",
       "      <th>max</th>\n",
       "      <td>11736.00</td>\n",
       "      <td>1630.00</td>\n",
       "    </tr>\n",
       "  </tbody>\n",
       "</table>\n",
       "</div>"
      ],
      "text/plain": [
       "        time(秒)  item_gap\n",
       "count      8.00      8.00\n",
       "mean    4428.90    615.12\n",
       "std     4342.13    603.07\n",
       "min       21.60      3.00\n",
       "25%      423.00     58.75\n",
       "50%     4118.40    572.00\n",
       "75%     6568.20    912.25\n",
       "max    11736.00   1630.00"
      ]
     },
     "execution_count": 15,
     "metadata": {},
     "output_type": "execute_result"
    }
   ],
   "source": [
    "mean_cut_time = ((8*60*60) / 8000) * 2\n",
    "df_time = pd.DataFrame()\n",
    "g = df.groupby(\"order_id\")\n",
    "for group in g.size().index:\n",
    "    df1_1 = g.get_group(group)\n",
    "    if len(df1_1) > 1:\n",
    "        df1_1 = df1_1.iloc[[1, -1]]\n",
    "        df_time.loc[group, \"start\"] = df1_1.index[0]\n",
    "        df_time.loc[group, \"end\"] = df1_1.index[1]\n",
    "    \n",
    "df_time[\"item_gap\"] = df_time[\"end\"] - df_time[\"start\"] + 1\n",
    "df_time[\"time(秒)\"] = df_time[\"item_gap\"] * mean_cut_time\n",
    "\n",
    "df_time[[\"time(秒)\", \"item_gap\"]].describe().round(2)"
   ]
  },
  {
   "cell_type": "markdown",
   "metadata": {},
   "source": [
    "### 基礎耗損率"
   ]
  },
  {
   "cell_type": "code",
   "execution_count": 16,
   "metadata": {},
   "outputs": [
    {
     "data": {
      "text/plain": [
       "{'waste': 0.1218, 'plate': 41, 'no_rm_waste': 0.4291, 'no_rm_plate': 88}"
      ]
     },
     "execution_count": 16,
     "metadata": {},
     "output_type": "execute_result"
    }
   ],
   "source": [
    "waste_score = calculate_mean_wast(df, waste_json = waste_json)\n",
    "waste_score[\"plate\"]"
   ]
  },
  {
   "cell_type": "markdown",
   "metadata": {},
   "source": [
    "### Save"
   ]
  },
  {
   "cell_type": "code",
   "execution_count": 17,
   "metadata": {},
   "outputs": [
    {
     "data": {
      "text/html": [
       "<div>\n",
       "<style scoped>\n",
       "    .dataframe tbody tr th:only-of-type {\n",
       "        vertical-align: middle;\n",
       "    }\n",
       "\n",
       "    .dataframe tbody tr th {\n",
       "        vertical-align: top;\n",
       "    }\n",
       "\n",
       "    .dataframe thead th {\n",
       "        text-align: right;\n",
       "    }\n",
       "</style>\n",
       "<table border=\"1\" class=\"dataframe\">\n",
       "  <thead>\n",
       "    <tr style=\"text-align: right;\">\n",
       "      <th></th>\n",
       "      <th>order</th>\n",
       "      <th>order_id</th>\n",
       "      <th>cabinet</th>\n",
       "      <th>item_name</th>\n",
       "      <th>color</th>\n",
       "      <th>length</th>\n",
       "      <th>width</th>\n",
       "      <th>area</th>\n",
       "      <th>area_prob</th>\n",
       "      <th>plate_id</th>\n",
       "      <th>accum_areas</th>\n",
       "      <th>waste</th>\n",
       "      <th>e_ship_date</th>\n",
       "    </tr>\n",
       "  </thead>\n",
       "  <tbody>\n",
       "    <tr>\n",
       "      <th>0</th>\n",
       "      <td>0</td>\n",
       "      <td>BS11206028</td>\n",
       "      <td>01_鞋櫃</td>\n",
       "      <td>背拉</td>\n",
       "      <td>*不拘_18</td>\n",
       "      <td>479.0</td>\n",
       "      <td>96.0</td>\n",
       "      <td>45984.0</td>\n",
       "      <td>0.0051</td>\n",
       "      <td>1</td>\n",
       "      <td>45984.0</td>\n",
       "      <td>0.9949</td>\n",
       "      <td>2024-06-14</td>\n",
       "    </tr>\n",
       "    <tr>\n",
       "      <th>1</th>\n",
       "      <td>1</td>\n",
       "      <td>BS11206028</td>\n",
       "      <td>01_鞋櫃</td>\n",
       "      <td>背拉</td>\n",
       "      <td>*不拘_18</td>\n",
       "      <td>479.0</td>\n",
       "      <td>96.0</td>\n",
       "      <td>45984.0</td>\n",
       "      <td>0.0051</td>\n",
       "      <td>1</td>\n",
       "      <td>91968.0</td>\n",
       "      <td>0.9898</td>\n",
       "      <td>2024-06-14</td>\n",
       "    </tr>\n",
       "    <tr>\n",
       "      <th>2</th>\n",
       "      <td>2</td>\n",
       "      <td>BS11206028</td>\n",
       "      <td>01_鞋櫃</td>\n",
       "      <td>背拉</td>\n",
       "      <td>*不拘_18</td>\n",
       "      <td>479.0</td>\n",
       "      <td>96.0</td>\n",
       "      <td>45984.0</td>\n",
       "      <td>0.0051</td>\n",
       "      <td>1</td>\n",
       "      <td>137952.0</td>\n",
       "      <td>0.9847</td>\n",
       "      <td>2024-06-14</td>\n",
       "    </tr>\n",
       "  </tbody>\n",
       "</table>\n",
       "</div>"
      ],
      "text/plain": [
       "   order    order_id cabinet item_name   color  length  width     area  \\\n",
       "0      0  BS11206028   01_鞋櫃        背拉  *不拘_18   479.0   96.0  45984.0   \n",
       "1      1  BS11206028   01_鞋櫃        背拉  *不拘_18   479.0   96.0  45984.0   \n",
       "2      2  BS11206028   01_鞋櫃        背拉  *不拘_18   479.0   96.0  45984.0   \n",
       "\n",
       "   area_prob  plate_id  accum_areas   waste e_ship_date  \n",
       "0     0.0051         1      45984.0  0.9949  2024-06-14  \n",
       "1     0.0051         1      91968.0  0.9898  2024-06-14  \n",
       "2     0.0051         1     137952.0  0.9847  2024-06-14  "
      ]
     },
     "execution_count": 17,
     "metadata": {},
     "output_type": "execute_result"
    }
   ],
   "source": [
    "df.insert(0, \"order\", df.index)\n",
    "keep_col = ['order', 'order_id', 'cabinet', 'item_name', 'color', 'length', 'width', 'area', 'area_prob', 'plate_id', 'accum_areas', 'waste', \"e_ship_date\"]\n",
    "df1 = df[keep_col].round(4)\n",
    "df1.head(3)"
   ]
  },
  {
   "cell_type": "code",
   "execution_count": 18,
   "metadata": {},
   "outputs": [
    {
     "name": "stdout",
     "output_type": "stream",
     "text": [
      "c:\\Users\\tzuli\\Documents\\python\\ChuanMai\\data\\predict\\data.csv\n"
     ]
    },
    {
     "name": "stderr",
     "output_type": "stream",
     "text": [
      "1694it [01:30, 29.02it/s, plate_id=88, waste=0.875]                          "
     ]
    }
   ],
   "source": [
    "print(data_csv)\n",
    "df1.to_csv(data_csv, encoding='utf-8-sig', index = False)\n",
    "df_rm.to_csv(data_rm_csv, encoding='utf-8-sig', index = False)"
   ]
  },
  {
   "cell_type": "code",
   "execution_count": null,
   "metadata": {},
   "outputs": [],
   "source": []
  }
 ],
 "metadata": {
  "kernelspec": {
   "display_name": ".venv",
   "language": "python",
   "name": "python3"
  },
  "language_info": {
   "codemirror_mode": {
    "name": "ipython",
    "version": 3
   },
   "file_extension": ".py",
   "mimetype": "text/x-python",
   "name": "python",
   "nbconvert_exporter": "python",
   "pygments_lexer": "ipython3",
   "version": "3.8.10"
  },
  "orig_nbformat": 4
 },
 "nbformat": 4,
 "nbformat_minor": 2
}
